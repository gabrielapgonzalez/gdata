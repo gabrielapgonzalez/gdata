{
 "cells": [
  {
   "cell_type": "code",
   "execution_count": 1,
   "metadata": {},
   "outputs": [],
   "source": [
    "d_cat_func = {\"object\": [\"count\", \"first\", \"last\", \"mode\"],\n",
    "\t\t\t\t\"float64\": [\"count\", \"first\", \"last\", \"sum\", \"mean\", \"mad\", \"min\", \"max\", \"std\"],\n",
    "\t\t\t\t\"int64\": [\"count\", \"first\", \"last\", \"mode\", \"sum\", \"min\", \"max\"]}"
   ]
  },
  {
   "cell_type": "code",
   "execution_count": 5,
   "metadata": {},
   "outputs": [
    {
     "name": "stdout",
     "output_type": "stream",
     "text": [
      "Oi\n"
     ]
    }
   ],
   "source": [
    "lista = [\"gabi\", \"felipe\"]\n",
    "oi = \"gabi\"\n",
    "if oi in lista:\n",
    "    print(\"Oi\")"
   ]
  },
  {
   "cell_type": "code",
   "execution_count": null,
   "metadata": {},
   "outputs": [],
   "source": []
  }
 ],
 "metadata": {
  "kernelspec": {
   "display_name": "Python 3",
   "language": "python",
   "name": "python3"
  },
  "language_info": {
   "codemirror_mode": {
    "name": "ipython",
    "version": 3
   },
   "file_extension": ".py",
   "mimetype": "text/x-python",
   "name": "python",
   "nbconvert_exporter": "python",
   "pygments_lexer": "ipython3",
   "version": "3.5.2"
  }
 },
 "nbformat": 4,
 "nbformat_minor": 2
}
